{
  "nbformat": 4,
  "nbformat_minor": 0,
  "metadata": {
    "colab": {
      "provenance": [],
      "authorship_tag": "ABX9TyOSBKNLelYca4WxP3HVXPie",
      "include_colab_link": true
    },
    "kernelspec": {
      "name": "python3",
      "display_name": "Python 3"
    },
    "language_info": {
      "name": "python"
    }
  },
  "cells": [
    {
      "cell_type": "markdown",
      "metadata": {
        "id": "view-in-github",
        "colab_type": "text"
      },
      "source": [
        "<a href=\"https://colab.research.google.com/github/VALAMETIAVINASH/codsoft-task2/blob/main/Task1(ChatBot_With_Rule_Based_responses).ipynb\" target=\"_parent\"><img src=\"https://colab.research.google.com/assets/colab-badge.svg\" alt=\"Open In Colab\"/></a>"
      ]
    },
    {
      "cell_type": "code",
      "execution_count": 1,
      "metadata": {
        "colab": {
          "base_uri": "https://localhost:8080/"
        },
        "id": "GAF8ICcPp5v9",
        "outputId": "52cd4382-7f0f-477e-850a-97dec63ea483"
      },
      "outputs": [
        {
          "output_type": "stream",
          "name": "stdout",
          "text": [
            "Simple Chatbot: Hello AVINASH! Type 'goodbye' to exit.\n",
            "You: goodbye\n",
            "Simple Chatbot: Goodbye!\n"
          ]
        }
      ],
      "source": [
        "def simple_chatbot(user_input):\n",
        "    user_input = user_input.lower()\n",
        "\n",
        "    if \"hello chatbot\" in user_input:\n",
        "        return \"Hi there! How can I help you today AVINASH?\"\n",
        "\n",
        "    elif \"how are you\" in user_input:\n",
        "        return \"I'm just a chatbot, but I'm here and ready to assist you AVINASH!\"\n",
        "\n",
        "    elif \"goodbye\" in user_input:\n",
        "        return \"Goodbye! Have a great day AVINASH!\"\n",
        "\n",
        "    elif \"help\" in user_input:\n",
        "        return \"I'm here to assist you. What do you need help with?\"\n",
        "\n",
        "    else:\n",
        "        return \"my bad AVINASH, I don't quite understand. AVINASH can you please rephrase or ask something else?\"\n",
        "\n",
        "print(\"Simple Chatbot: Hello AVINASH! Type 'goodbye' to exit.\")\n",
        "while True:\n",
        "\n",
        "    user_input = input(\"You: \")\n",
        "    if user_input.lower() == \"goodbye\":\n",
        "        print(\"Simple Chatbot: Goodbye!\")\n",
        "\n",
        "        break\n",
        "    response = simple_chatbot(user_input)\n",
        "    print(\"Simple Chatbot:\", response)"
      ]
    }
  ]
}